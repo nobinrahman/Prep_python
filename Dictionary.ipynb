{
 "cells": [
  {
   "cell_type": "code",
   "execution_count": 2,
   "id": "6b844b58-2cf4-40a0-b5e4-1059a18f0f4f",
   "metadata": {},
   "outputs": [
    {
     "name": "stdout",
     "output_type": "stream",
     "text": [
      "{'a': 3, 'n': 1, 'g': 1, 'r': 1, 'm': 1}\n",
      "{'n': 1, 'a': 3, 'g': 1, 'r': 1, 'm': 1}\n",
      "True\n"
     ]
    }
   ],
   "source": [
    "#Anagram\n",
    "\n",
    "def Anagram(s,t):\n",
    "\n",
    "\tif len(s) != len(t):\n",
    "\t\treturn False\n",
    "\n",
    "\tcount_s={}\n",
    "\tcount_t={}\n",
    "\n",
    "\tfor char in s:\n",
    "\t\tcount_s[char] = count_s.get(char, 0) + 1\n",
    "\tprint(count_s)\n",
    "\n",
    "\tfor char in t:\n",
    "\t\tcount_t[char] = count_t.get(char, 0) + 1\n",
    "\tprint(count_t)\n",
    "\tif count_s == count_t:\n",
    "\t\treturn True\n",
    "\telse:\n",
    "\t\treturn False\n",
    "\n",
    "s = 'anagram'\n",
    "t = 'nagaram'\n",
    "x = Anagram(s,t)\n",
    "print(x)\n"
   ]
  },
  {
   "cell_type": "code",
   "execution_count": 3,
   "id": "97b993c3-929f-466a-8a81-2ed4efaef1b1",
   "metadata": {},
   "outputs": [
    {
     "name": "stdout",
     "output_type": "stream",
     "text": [
      "thereisnounmixedblessingsoneartheverythinghasitsdarkside\n",
      "{'t': 4, 'h': 4, 'e': 8, 'r': 4, 'i': 6, 's': 7, 'n': 5, 'o': 2, 'u': 1, 'm': 1, 'x': 1, 'd': 3, 'b': 1, 'l': 1, 'g': 2, 'a': 3, 'v': 1, 'y': 1, 'k': 1}\n",
      "{'T': 1, 'h': 4, 'e': 7, 'r': 4, ' ': 11, 'i': 6, 's': 7, 'n': 5, 'o': 2, 'u': 1, 'm': 1, 'x': 1, 'd': 3, 'b': 1, 'l': 1, 'g': 2, 'a': 3, 't': 3, '.': 1, 'E': 1, 'v': 1, 'y': 1, \"'\": 1, 'k': 1, '!': 1}\n",
      "70\n"
     ]
    }
   ],
   "source": [
    "# Count total number of alphabet in a string\n",
    "\n",
    "\n",
    "output = \"There is no unmixed blessings on earth. Everything has it's dark side!\"\n",
    "\n",
    "clean_output = ''\n",
    "\n",
    "for char in output:\n",
    "\tif char.isalpha():\n",
    "\t\tclean_output = clean_output + char\n",
    "\n",
    "print(clean_output.lower())\n",
    "\n",
    "\n",
    "alphabet_count = {}\n",
    "\n",
    "for char in clean_output.lower():\n",
    "\talphabet_count[char] = alphabet_count.get(char, 0) + 1\n",
    "\n",
    "print(alphabet_count)\n",
    "\n",
    "\n",
    "\n",
    "count_output = {}\n",
    "\n",
    "for i in output:\n",
    "\tif i in count_output:\n",
    "\t\tcount_output[i] = count_output[i] + 1\n",
    "\telse:\n",
    "\t\tcount_output[i] = 1\n",
    "print (count_output)\n",
    "\n",
    "total_v = 0\n",
    "for k,v in count_output.items():\n",
    "\ttotal_v = total_v + v\n",
    "print(total_v)"
   ]
  },
  {
   "cell_type": "code",
   "execution_count": 4,
   "id": "b1dae60b-0b50-4af1-bb5e-92e650a9b13f",
   "metadata": {},
   "outputs": [
    {
     "name": "stdout",
     "output_type": "stream",
     "text": [
      "The highest salary is: 150000\n",
      "The highest salary earned by: Sam\n"
     ]
    }
   ],
   "source": [
    "#Find the maximum salary from the below dictionary\n",
    "\n",
    "employees = {\n",
    "'emp1': {'name': 'John', 'salary': 76000},\n",
    "'emp2': {'name': 'Ben', 'salary': 86000},\n",
    "'emp3': {'name': 'Dan', 'salary': 100000},\n",
    "'emp4': {'name': 'Sam', 'salary': 150000},\n",
    "'emp5': {'name': 'Ken', 'salary': 80000},\n",
    "}\n",
    "\n",
    "# Initialize max_salary is 0 \n",
    "max_salary = 0\n",
    "# Initialize max_salary_emp to an empty string\n",
    "max_salary_emp = ' '\n",
    "\n",
    "for emp_id, emp_data in employees.items():\n",
    "\tif emp_data['salary'] > max_salary:\n",
    "\t\tmax_salary = emp_data['salary']\n",
    "\t\tmax_salary_emp = emp_data['name']\n",
    "\n",
    "print (f'The highest salary is: {max_salary}')\n",
    "print (f'The highest salary earned by: {max_salary_emp}')"
   ]
  },
  {
   "cell_type": "code",
   "execution_count": 5,
   "id": "dd108fc4-bb8b-458a-a5c2-eb12c95d494b",
   "metadata": {},
   "outputs": [
    {
     "name": "stdout",
     "output_type": "stream",
     "text": [
      "[30, 25, 35]\n",
      "Name: Emily Johnson\n",
      "Age: 35\n",
      "Department: Marketing\n",
      "Skills: SEO, content creation, data analysis\n",
      "---\n"
     ]
    }
   ],
   "source": [
    "# List of dictionaries\n",
    "employees = [\n",
    "    {\n",
    "        \"name\": \"John Doe\",\n",
    "        \"age\": 30,\n",
    "        \"department\": \"HR\",\n",
    "        \"skills\": [\"communication\", \"organization\"]\n",
    "    },\n",
    "    {\n",
    "        \"name\": \"Jane Smith\",\n",
    "        \"age\": 25,\n",
    "        \"department\": \"Engineering\",\n",
    "        \"skills\": [\"Python\", \"C++\", \"problem-solving\"]\n",
    "    },\n",
    "    {\n",
    "        \"name\": \"Emily Johnson\",\n",
    "        \"age\": 35,\n",
    "        \"department\": \"Marketing\",\n",
    "        \"skills\": [\"SEO\", \"content creation\", \"data analysis\"]\n",
    "    }\n",
    "]\n",
    "\n",
    "all_age = []\n",
    "# Accessing the list of dictionaries\n",
    "for employee in employees:\n",
    "    all_age.append(employee['age'])\n",
    "print(all_age)\n",
    "print(f\"Name: {employee['name']}\")\n",
    "print(f\"Age: {employee['age']}\")\n",
    "print(f\"Department: {employee['department']}\")\n",
    "print(f\"Skills: {', '.join(employee['skills'])}\")\n",
    "print(\"---\")"
   ]
  },
  {
   "cell_type": "code",
   "execution_count": 6,
   "id": "c5ba67c1-ca14-41c9-9cdf-c13d093891cd",
   "metadata": {},
   "outputs": [
    {
     "name": "stdout",
     "output_type": "stream",
     "text": [
      "{'this': 3, 'is': 1, 'a': 1, 'sample': 3, 'paragraph.': 1, 'paragraph': 1, 'contains': 1, 'some': 1, 'words': 2, 'for': 1, 'testing.': 1, 'are': 1, 'repeated': 1, 'to': 1, 'test': 1, 'word': 1, 'count': 1, 'exercise.': 1}\n",
      "[('this', 3), ('sample', 3), ('words', 2), ('is', 1), ('a', 1), ('paragraph.', 1), ('paragraph', 1), ('contains', 1), ('some', 1), ('for', 1), ('testing.', 1), ('are', 1), ('repeated', 1), ('to', 1), ('test', 1), ('word', 1), ('count', 1), ('exercise.', 1)]\n",
      "this\n",
      "sample\n",
      "words\n"
     ]
    }
   ],
   "source": [
    "# Top 3 repeated words in a paragraph \n",
    "paragraph = \"This is a sample paragraph. This paragraph contains some sample words for testing. Sample words are repeated to test this word count exercise.\"\n",
    "paragraph_lower = paragraph.lower()\n",
    "\n",
    "words = paragraph_lower.split()\n",
    "\n",
    "count_word = {}\n",
    "\n",
    "for word in words:\n",
    "    if word in count_word:\n",
    "        count_word[word] = count_word[word] + 1\n",
    "    else:\n",
    "        count_word[word] = 1\n",
    "\n",
    "print(count_word)\n",
    "\n",
    "\n",
    "# coverting dictionary into a list of tuple\n",
    "\n",
    "items = list(count_word.items())\n",
    "\n",
    "# sort it using bubble sort\n",
    "\n",
    "for i in range(len(items)):\n",
    "    for j in range(len(items) -i -1):\n",
    "        if items[j][1] < items[j+1][1]:\n",
    "            items[j], items[j+1] = items[j+1], items[j]\n",
    "\n",
    "print(items)\n",
    "\n",
    "for i in range(3):\n",
    "    print(items[i][0])"
   ]
  },
  {
   "cell_type": "code",
   "execution_count": 8,
   "id": "d6a74d48-0724-4682-ba44-4ea4b2a50ae9",
   "metadata": {},
   "outputs": [
    {
     "name": "stdout",
     "output_type": "stream",
     "text": [
      "-1\n"
     ]
    }
   ],
   "source": [
    "#First Unique Character in a String\n",
    "\n",
    "\n",
    "# Given a string s, find the first non-repeating character in it and return its index. If it does not exist, return -1.\n",
    "\n",
    " \n",
    "\n",
    "# Example 1:\n",
    "\n",
    "# Input: s = \"leetcode\"\n",
    "# Output: 0\n",
    "# Example 2:\n",
    "\n",
    "# Input: s = \"loveleetcode\"\n",
    "# Output: 2\n",
    "# Example 3:\n",
    "\n",
    "# Input: s = \"aabb\"\n",
    "# Output: -1\n",
    "class Dict_Solution:\n",
    "\tdef __init__(self, s):\n",
    "\t\tself.s = s\n",
    "\tdef find_unique_charecter_dict(self):\n",
    "\t\tcount = {}\n",
    "\t\tfor char in s:\n",
    "\t\t\tif char in count:\n",
    "\t\t\t\tcount[char] = count[char] + 1\n",
    "\t\t\telse:\n",
    "\t\t\t\tcount[char] = 1\n",
    "\t\tn = len(self.s)\n",
    "\t\tfor i in range(n):\n",
    "\t\t\tif count[s[i]] == 1:\n",
    "\t\t\t\treturn i\n",
    "\t\treturn -1 \n",
    "\n",
    "s = \"aabb\"\n",
    "solver = Dict_Solution(s)\n",
    "result = solver.find_unique_charecter_dict()\n",
    "print(result)"
   ]
  },
  {
   "cell_type": "code",
   "execution_count": 10,
   "id": "704aa64a-175c-4a29-897e-9a03c34208f5",
   "metadata": {},
   "outputs": [
    {
     "name": "stdout",
     "output_type": "stream",
     "text": [
      "Vowel counts: ({'e': 7, 'o': 4, 'a': 6, 'i': 5, 'I': 1}, 23)\n"
     ]
    }
   ],
   "source": [
    "# Vowel Count\n",
    "def count_vowels(s):\n",
    "    vowels = 'aeiouAEIOU'\n",
    "    vowel_count = {}\n",
    "    \n",
    "    # for char in s:\n",
    "    #     if char in vowels:    \n",
    "    #         if char in vowel_count:\n",
    "    #             vowel_count[char] += 1\n",
    "    #         else:\n",
    "    #             vowel_count[char] = 1\n",
    "    for char in s:\n",
    "        if char in vowels:\n",
    "            if char not in vowel_count:\n",
    "                vowel_count[char] = 0\n",
    "            vowel_count[char] += 1\n",
    "\n",
    "    total_vowel = 0\n",
    "\n",
    "    for k,v in vowel_count.items():\n",
    "    \ttotal_vowel = total_vowel + v\n",
    "\n",
    "    \n",
    "    return vowel_count, total_vowel\n",
    "\n",
    "\n",
    "# Example usage:\n",
    "s = 'hello, my name is nobin rahman, I am a software engineer in cisco systems'\n",
    "result = count_vowels(s)\n",
    "print(\"Vowel counts:\", result)"
   ]
  },
  {
   "cell_type": "code",
   "execution_count": 11,
   "id": "f649e593-fbd6-4e57-931a-2b7a8aabe904",
   "metadata": {},
   "outputs": [
    {
     "name": "stdout",
     "output_type": "stream",
     "text": [
      "{1: 'e', 2: 'e', 5: 'o', 7: 'e'}\n",
      "[1, 2, 5, 7]\n",
      "['e', 'e', 'o', 'e']\n",
      "leotcede\n"
     ]
    }
   ],
   "source": [
    "# 345. Reverse Vowels of a String\n",
    "# Given a string s, reverse only all the vowels in the string and return it.\n",
    "\n",
    "# The vowels are 'a', 'e', 'i', 'o', and 'u', and they can appear in both lower and upper cases, more than once.\n",
    "\n",
    "# Example 1:\n",
    "\n",
    "# Input: s = \"hello\"\n",
    "# Output: \"holle\"\n",
    "# Example 2:\n",
    "\n",
    "# Input: s = \"leetcode\"\n",
    "# Output: \"leotcede\"\n",
    "\n",
    "s = \"leetcode\"\n",
    "\n",
    "#Since string can not be modified. Lets convert it in list and modify it\n",
    "\n",
    "list_s = list(s)\n",
    "\n",
    "# store vowel position and charecter in a dictionary\n",
    "\n",
    "vowels = 'aeiouAEIOU'\n",
    "\n",
    "\n",
    "### Cool method. remember this\n",
    "vowel_count = {}\n",
    "\n",
    "for i in range(len(s)):\n",
    "    if s[i] in vowels:\n",
    "        vowel_count[i] = s[i]\n",
    "\n",
    "print(vowel_count)\n",
    "\n",
    "vpos = []\n",
    "vchar = []\n",
    "for k,v in vowel_count.items():\n",
    "    vpos.append(k)\n",
    "    vchar.append(v)\n",
    "print(vpos)\n",
    "print(vchar)\n",
    "\n",
    "\n",
    "for i in range(len(vpos)):\n",
    "    list_s[vpos[i]] = vchar[len(vpos) -1 -i]\n",
    "\n",
    "\n",
    "result = \"\".join(list_s)\n",
    "print(result)"
   ]
  },
  {
   "cell_type": "code",
   "execution_count": 13,
   "id": "fbfd6aee-c067-4fed-8659-bb6d7e087c5c",
   "metadata": {},
   "outputs": [
    {
     "name": "stdout",
     "output_type": "stream",
     "text": [
      "{'c': 2, 'a': 2, 'r': 2, 'e': 1}\n",
      "True\n"
     ]
    }
   ],
   "source": [
    "# 266. Palindrome Permutation\n",
    "\n",
    "# Given a string s, return true if a permutation of the string could form a palindrome and false otherwise.\n",
    "\n",
    "# Example 1:\n",
    "# Input: s = \"code\"\n",
    "# Output: false\n",
    "\n",
    "# Example 2:\n",
    "# Input: s = \"aab\"\n",
    "# Output: true\n",
    "# Example 3:\n",
    "\n",
    "# Input: s = \"carerac\"\n",
    "# Output: true\n",
    "\n",
    "s = 'carerac'\n",
    "count_s = {}\n",
    "\n",
    "for char in s:\n",
    "    if char in count_s:\n",
    "        count_s[char] = count_s[char] + 1\n",
    "    else:\n",
    "        count_s[char] = 1\n",
    "print(count_s)\n",
    "\n",
    "count = 0 \n",
    "for k,v in count_s.items():\n",
    "    if v%2 == 1:\n",
    "        count = count + 1\n",
    "if count <= 1:\n",
    "    print('True')\n",
    "else:\n",
    "    print('False')\n",
    "        \n",
    "        "
   ]
  },
  {
   "cell_type": "code",
   "execution_count": null,
   "id": "360808ed-b3a8-42f0-a3bf-abf9f95e9632",
   "metadata": {},
   "outputs": [],
   "source": []
  }
 ],
 "metadata": {
  "kernelspec": {
   "display_name": "Python 3 (ipykernel)",
   "language": "python",
   "name": "python3"
  },
  "language_info": {
   "codemirror_mode": {
    "name": "ipython",
    "version": 3
   },
   "file_extension": ".py",
   "mimetype": "text/x-python",
   "name": "python",
   "nbconvert_exporter": "python",
   "pygments_lexer": "ipython3",
   "version": "3.9.7"
  }
 },
 "nbformat": 4,
 "nbformat_minor": 5
}
